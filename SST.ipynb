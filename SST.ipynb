{
 "cells": [
  {
   "cell_type": "markdown",
   "id": "cdc58a88",
   "metadata": {},
   "source": [
    "Simple Linear Regression"
   ]
  },
  {
   "cell_type": "code",
   "execution_count": 4,
   "id": "eaa81f52",
   "metadata": {},
   "outputs": [
    {
     "data": {
      "image/png": "[encoded data removed]",
      "text/plain": [
       "<Figure size 432x288 with 1 Axes>"
      ]
     },
     "metadata": {
      "needs_background": "light"
     },
     "output_type": "display_data"
    }
   ],
   "source": [
    "X=[0,1,2,3,4,5,6,7,8,9]\n",
    "Y=[1,3,2,5,7,8,8,9,10,12]\n",
    "\n",
    "import numpy as np\n",
    "x=np.array(X).reshape(-1,1)\n",
    "y=np.array(Y).reshape(-1,1)\n",
    "\n",
    "import matplotlib.pyplot as plt\n",
    "from sklearn.linear_model import LinearRegression\n",
    "\n",
    "model=LinearRegression()\n",
    "model.fit(x,y)\n",
    "\n",
    "plt.scatter(x,y)\n",
    "plt.plot(x,model.predict(x),color='blue')\n",
    "plt.xlabel('X')\n",
    "plt.ylabel('Y')\n",
    "plt.show()"
   ]
  },
  {
   "cell_type": "code",
   "execution_count": 7,
   "id": "a2bef11e",
   "metadata": {},
   "outputs": [
    {
     "data": {
      "image/png": "[encoded data removed]",
      "text/plain": [
       "<Figure size 432x288 with 1 Axes>"
      ]
     },
     "metadata": {
      "needs_background": "light"
     },
     "output_type": "display_data"
    }
   ],
   "source": [
    "x = [5,7,8,7,2,17,2,9,4,11,12,9,6]\n",
    "y = [99,86,87,88,111,86,103,87,94,78,77,85,86]\n",
    "\n",
    "import matplotlib.pyplot as plt\n",
    "from scipy import stats\n",
    "\n",
    "slope,intercept,r,p,std_err=stats.linregress(x,y)\n",
    "\n",
    "def myfunc(x):\n",
    "    return slope*x+intercept\n",
    "\n",
    "mymodel=list(map(myfunc,x))\n",
    "\n",
    "plt.scatter(x,y)\n",
    "plt.plot(x,mymodel,color='blue')\n",
    "plt.xlabel('x')\n",
    "plt.ylabel('y')\n",
    "plt.show()"
   ]
  },
  {
   "cell_type": "markdown",
   "id": "f6d2da71",
   "metadata": {},
   "source": [
    "One way Analysis"
   ]
  },
  {
   "cell_type": "code",
   "execution_count": 8,
   "id": "93471ea9",
   "metadata": {},
   "outputs": [
    {
     "name": "stdout",
     "output_type": "stream",
     "text": [
      "Accept Null Hypothesis\n"
     ]
    }
   ],
   "source": [
    "from scipy.stats import f_oneway\n",
    "\n",
    "group1 = [85, 86, 88, 75, 78, 94, 98, 79, 71, 80]\n",
    "group2 = [91, 92, 93, 85, 87, 84, 82, 88, 95, 96]\n",
    "group3 = [79, 78, 88, 94, 92, 85, 83, 85, 82, 81]\n",
    "\n",
    "fval,pval=f_oneway(group1,group2,group3)\n",
    "\n",
    "if fval<pval:\n",
    "    print(\"Reject Null Hypothesis\")\n",
    "else:\n",
    "    print(\"Accept Null Hypothesis\")"
   ]
  },
  {
   "cell_type": "code",
   "execution_count": null,
   "id": "b5e44807",
   "metadata": {},
   "outputs": [],
   "source": [
    "Anova "
   ]
  },
  {
   "cell_type": "code",
   "execution_count": 23,
   "id": "51ea8411",
   "metadata": {},
   "outputs": [
    {
     "name": "stdout",
     "output_type": "stream",
     "text": [
      "                    sum_sq    df        F    PR(>F)\n",
      "C(water)          8.533333   1.0  16.0000  0.000527\n",
      "C(sun)           24.866667   2.0  23.3125  0.000002\n",
      "C(water):C(sun)   2.466667   2.0   2.3125  0.120667\n",
      "Residual         12.800000  24.0      NaN       NaN\n"
     ]
    }
   ],
   "source": [
    "from statsmodels.formula.api import ols\n",
    "from statsmodels.stats.anova import anova_lm\n",
    "import pandas as pd \n",
    "import numpy as np\n",
    "\n",
    "df=pd.DataFrame({\n",
    "    'water':np.repeat(['daily','weekly'],15),\n",
    "    'sun':np.tile(np.repeat(['low','medium','high'],5),2),\n",
    "    'height':[6, 6, 6, 5, 6, 5, 5, 6, 4, 5,6, 6, 7, 8, 7, 3, 4, 4, 4, 5,4, 4, 4, 4, 4, 5, 6, 6, 7, 8]\n",
    "})\n",
    "\n",
    "formula=('height~C(water)+C(sun)+C(water):C(sun)')\n",
    "model=ols(formula,data=df).fit()\n",
    "anova_table=anova_lm(model,typ=2)\n",
    "print(anova_table)"
   ]
  },
  {
   "cell_type": "code",
   "execution_count": null,
   "id": "76ca3664",
   "metadata": {},
   "outputs": [],
   "source": [
    "Z-Score"
   ]
  },
  {
   "cell_type": "code",
   "execution_count": 25,
   "id": "129e1801",
   "metadata": {},
   "outputs": [
    {
     "name": "stdout",
     "output_type": "stream",
     "text": [
      "z = -41.95500235040183\n",
      "p_value = 1.6448536269514722\n",
      "Fail to Reject NUll Hypothesis\n"
     ]
    }
   ],
   "source": [
    "import scipy.stats\n",
    "import math\n",
    "\n",
    "x_bar=11\n",
    "stdev=15\n",
    "n=50\n",
    "mu=100\n",
    "\n",
    "p_value=scipy.stats.norm.ppf(1-0.05)\n",
    "\n",
    "z=(x_bar-mu)/(stdev/math.sqrt(n))\n",
    "\n",
    "print(\"z =\",z)\n",
    "print(\"p_value =\",p_value)\n",
    "\n",
    "if(z>p_value):\n",
    "  print(\"Reject Null Hypothesis\")\n",
    "else:\n",
    "  print(\"Fail to Reject NUll Hypothesis\")"
   ]
  },
  {
   "cell_type": "code",
   "execution_count": null,
   "id": "8a5436d5",
   "metadata": {},
   "outputs": [],
   "source": [
    "Randomness"
   ]
  },
  {
   "cell_type": "code",
   "execution_count": 26,
   "id": "2bedfd0e",
   "metadata": {},
   "outputs": [
    {
     "name": "stdout",
     "output_type": "stream",
     "text": [
      "Random names generated is ['Nadal', 'Kumar', 'Sarena', 'Kumar']\n"
     ]
    }
   ],
   "source": [
    "import random\n",
    "names = [\"Roger\", \"Nadal\", \"Novac\", \"Andre\", \"Sarena\", \"Mariya\", \"Martina\", \"Kumar\"]\n",
    "X = random.choices(names,k=4)\n",
    "print(\"Random names generated is\",X)"
   ]
  },
  {
   "cell_type": "code",
   "execution_count": 28,
   "id": "2b211305",
   "metadata": {},
   "outputs": [
    {
     "name": "stdout",
     "output_type": "stream",
     "text": [
      "Random element generated is 20\n",
      "[21, 20, 22, 29, 28]\n",
      "Random Integer generated is 28\n"
     ]
    }
   ],
   "source": [
    "import random\n",
    "bmi_list = [29, 18, 20, 22, 19, 25, 30, 28 ,22, 21, 18, 19, 20, 20, 22, 23]\n",
    "X = random.choice(bmi_list)\n",
    "print(\"Random element generated is\",X)\n",
    "\n",
    "import random\n",
    "bmi_list = [29, 18, 20, 22, 19, 25, 30, 28,22, 21, 18, 19, 20, 20, 22, 23]\n",
    "print(random.sample(bmi_list,k=5))\n",
    "\n",
    "import random\n",
    "bmi_list = [29, 18, 20, 22, 19, 25, 30, 28 ,22, 21, 18, 19, 20, 20, 22, 23]\n",
    "Y = random.randint(20,30)\n",
    "print(\"Random Integer generated is\",Y)"
   ]
  },
  {
   "cell_type": "code",
   "execution_count": null,
   "id": "4dd34cb2",
   "metadata": {},
   "outputs": [],
   "source": [
    "T-test"
   ]
  },
  {
   "cell_type": "code",
   "execution_count": 50,
   "id": "9666f882",
   "metadata": {},
   "outputs": [
    {
     "name": "stdout",
     "output_type": "stream",
     "text": [
      "Accept Null Hypothesis\n"
     ]
    }
   ],
   "source": [
    "from scipy import stats\n",
    "\n",
    "classA = [82, 84, 85, 89, 91, 91, 92, 94, 99, 99,\n",
    " 65, 89, 79, 59, 80, 72, 69, 75, 84, 71]\n",
    "classB = [90, 91, 91, 91, 95, 95, 99, 99, 100, 79,\n",
    " 69, 84, 85, 76, 87, 87, 78, 69, 80, 93]\n",
    "\n",
    "tval,pval=stats.ttest_ind(classA,classB)\n",
    "\n",
    "if(pval<0.05):\n",
    "    print(\"Reject Null Hypothesis\")\n",
    "else:\n",
    "    print(\"Accept Null Hypothesis\")"
   ]
  }
 ],
 "metadata": {
  "kernelspec": {
   "display_name": "Python 3 (ipykernel)",
   "language": "python",
   "name": "python3"
  },
  "language_info": {
   "codemirror_mode": {
    "name": "ipython",
    "version": 3
   },
   "file_extension": ".py",
   "mimetype": "text/x-python",
   "name": "python",
   "nbconvert_exporter": "python",
   "pygments_lexer": "ipython3",
   "version": "3.10.5"
  }
 },
 "nbformat": 4,
 "nbformat_minor": 5
}
